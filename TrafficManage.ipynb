{
  "cells": [
    {
      "metadata": {
        "trusted": true
      },
      "cell_type": "code",
      "source": "!curl https://msftgrab.z23.web.core.windows.net/traffic/training.csv -o traffic.csv",
      "execution_count": null,
      "outputs": []
    },
    {
      "metadata": {
        "trusted": true
      },
      "cell_type": "code",
      "source": "# linear algebra\nimport numpy as np \n\n# data processing\nimport pandas as pd \n\n#import geohash as gh\n\n# data visualization\nimport seaborn as sns\n%matplotlib inline\nfrom matplotlib import pyplot as plt\nfrom matplotlib import style\n\n# Algorithms\nfrom sklearn import linear_model\nfrom sklearn.linear_model import LogisticRegression\nfrom sklearn.ensemble import RandomForestClassifier\nfrom sklearn.linear_model import Perceptron\nfrom sklearn.linear_model import SGDClassifier\nfrom sklearn.tree import DecisionTreeClassifier\nfrom sklearn.neighbors import KNeighborsClassifier\nfrom sklearn.svm import SVC, LinearSVC\nfrom sklearn.naive_bayes import GaussianNB\n\n#train_df = pd.read_csv(\"C:/Users/fchoong/OneDrive - eclass inc/Personal/MicrosoftGrab/Traffic_Management/training.csv\")\n\n",
      "execution_count": 1,
      "outputs": []
    },
    {
      "metadata": {
        "trusted": true
      },
      "cell_type": "code",
      "source": "df = pd.read_csv('traffic.csv')\ndf.info()\ndf.describe()\ndf.head(3)",
      "execution_count": 2,
      "outputs": [
        {
          "output_type": "stream",
          "text": "<class 'pandas.core.frame.DataFrame'>\nRangeIndex: 4206321 entries, 0 to 4206320\nData columns (total 4 columns):\ngeohash6     object\nday          int64\ntimestamp    object\ndemand       float64\ndtypes: float64(1), int64(1), object(2)\nmemory usage: 128.4+ MB\n",
          "name": "stdout"
        },
        {
          "output_type": "execute_result",
          "execution_count": 2,
          "data": {
            "text/html": "<div>\n<style scoped>\n    .dataframe tbody tr th:only-of-type {\n        vertical-align: middle;\n    }\n\n    .dataframe tbody tr th {\n        vertical-align: top;\n    }\n\n    .dataframe thead th {\n        text-align: right;\n    }\n</style>\n<table border=\"1\" class=\"dataframe\">\n  <thead>\n    <tr style=\"text-align: right;\">\n      <th></th>\n      <th>geohash6</th>\n      <th>day</th>\n      <th>timestamp</th>\n      <th>demand</th>\n    </tr>\n  </thead>\n  <tbody>\n    <tr>\n      <th>0</th>\n      <td>qp03wc</td>\n      <td>18</td>\n      <td>20:0</td>\n      <td>0.020072</td>\n    </tr>\n    <tr>\n      <th>1</th>\n      <td>qp03pn</td>\n      <td>10</td>\n      <td>14:30</td>\n      <td>0.024721</td>\n    </tr>\n    <tr>\n      <th>2</th>\n      <td>qp09sw</td>\n      <td>9</td>\n      <td>6:15</td>\n      <td>0.102821</td>\n    </tr>\n  </tbody>\n</table>\n</div>",
            "text/plain": "  geohash6  day timestamp    demand\n0   qp03wc   18      20:0  0.020072\n1   qp03pn   10     14:30  0.024721\n2   qp09sw    9      6:15  0.102821"
          },
          "metadata": {}
        }
      ]
    },
    {
      "metadata": {
        "trusted": true
      },
      "cell_type": "code",
      "source": "",
      "execution_count": null,
      "outputs": []
    }
  ],
  "metadata": {
    "kernelspec": {
      "name": "python36",
      "display_name": "Python 3.6",
      "language": "python"
    },
    "language_info": {
      "mimetype": "text/x-python",
      "nbconvert_exporter": "python",
      "name": "python",
      "pygments_lexer": "ipython3",
      "version": "3.6.6",
      "file_extension": ".py",
      "codemirror_mode": {
        "version": 3,
        "name": "ipython"
      }
    }
  },
  "nbformat": 4,
  "nbformat_minor": 2
}