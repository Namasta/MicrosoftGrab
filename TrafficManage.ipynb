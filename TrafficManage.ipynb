{
  "cells": [
    {
      "metadata": {
        "trusted": true
      },
      "cell_type": "code",
      "source": "!curl https://msftgrab.z23.web.core.windows.net/traffic/training.csv -o ../training.csv",
      "execution_count": 2,
      "outputs": [
        {
          "output_type": "stream",
          "text": "  % Total    % Received % Xferd  Average Speed   Time    Time     Time  Current\n                                 Dload  Upload   Total   Spent    Left  Speed\n100  140M  100  140M    0     0   151k      0  0:15:54  0:15:54 --:--:--  304k    0     0   148k      0  0:16:08  0:01:12  0:14:56 90430   0  0:18:27  0:01:56  0:16:31 871312  0:03:04  0:16:38   99k6.3M    0     0   119k      0  0:20:03  0:03:45  0:16:18  100k  0:15:29  130k0  0:20:21  0:05:22  0:14:59  107k14:55  105k5k8  0:13:53  119k    0  0:20:13  0:06:29  0:13:44  103k50.9M    0     0   124k      0  0:19:18  0:06:59  0:12:19  165k.0M    0     0   126k      0  0:19:00  0:07:17  0:11:43  126k0  143k6k  0  0:17:31  0:08:06  0:09:25  114k6:42  0:09:54  0:06:48  276k  0     0   147k      0  0:16:19  0:10:37  0:05:42  123k5  0:11:04  0:05:01  199k:02  0:02:56  105k8  0:00:31  235k\n",
          "name": "stdout"
        }
      ]
    },
    {
      "metadata": {
        "trusted": true
      },
      "cell_type": "code",
      "source": "!pip install --upgrade pip",
      "execution_count": 6,
      "outputs": [
        {
          "output_type": "stream",
          "text": "Collecting pip\n\u001b[33m  WARNING: Retrying (Retry(total=4, connect=None, read=None, redirect=None, status=None)) after connection broken by 'ProxyError('Cannot connect to proxy.', timeout('timed out',))': /packages/43/84/23ed6a1796480a6f1a2d38f2802901d078266bda38388954d01d3f2e821d/pip-20.1.1-py2.py3-none-any.whl\u001b[0m\n\u001b[?25l  Downloading https://files.pythonhosted.org/packages/43/84/23ed6a1796480a6f1a2d38f2802901d078266bda38388954d01d3f2e821d/pip-20.1.1-py2.py3-none-any.whl (1.5MB)\n\u001b[K     |████████████████████████████████| 1.5MB 1.2MB/s eta 0:00:01\n\u001b[?25hInstalling collected packages: pip\n  Found existing installation: pip 19.3.1\n    Uninstalling pip-19.3.1:\n      Successfully uninstalled pip-19.3.1\nSuccessfully installed pip-20.1.1\n",
          "name": "stdout"
        }
      ]
    },
    {
      "metadata": {
        "trusted": true
      },
      "cell_type": "code",
      "source": "!pip install python-geohash",
      "execution_count": 7,
      "outputs": [
        {
          "output_type": "stream",
          "text": "Collecting python-geohash\n  Downloading python-geohash-0.8.5.tar.gz (17 kB)\nBuilding wheels for collected packages: python-geohash\n  Building wheel for python-geohash (setup.py) ... \u001b[?25ldone\n\u001b[?25h  Created wheel for python-geohash: filename=python_geohash-0.8.5-cp36-cp36m-linux_x86_64.whl size=41051 sha256=6abe97a4f941a457505284f3ecee03a602183c9ff657809f303953b0df88329b\n  Stored in directory: /home/nbuser/.cache/pip/wheels/6f/be/45/5e0a0ce5bf42f2081c5b2906d4f1f146f825ec00c3759d1bd3\nSuccessfully built python-geohash\nInstalling collected packages: python-geohash\nSuccessfully installed python-geohash-0.8.5\n",
          "name": "stdout"
        }
      ]
    },
    {
      "metadata": {
        "trusted": true
      },
      "cell_type": "code",
      "source": "# linear algebra\nimport numpy as np \n\n# data processing\nimport pandas as pd \n\nimport geohash as gh\n\n# data visualization\nimport seaborn as sns\n%matplotlib inline\nfrom matplotlib import pyplot as plt\nfrom matplotlib import style\n\n# Algorithms\nfrom sklearn import linear_model\nfrom sklearn.linear_model import LogisticRegression\nfrom sklearn.ensemble import RandomForestClassifier\nfrom sklearn.linear_model import Perceptron\nfrom sklearn.linear_model import SGDClassifier\nfrom sklearn.tree import DecisionTreeClassifier\nfrom sklearn.neighbors import KNeighborsClassifier\nfrom sklearn.svm import SVC, LinearSVC\nfrom sklearn.naive_bayes import GaussianNB\n",
      "execution_count": 8,
      "outputs": [
        {
          "output_type": "stream",
          "text": "/home/nbuser/anaconda3_501/lib/python3.6/site-packages/matplotlib/font_manager.py:229: UserWarning: Matplotlib is building the font cache using fc-list. This may take a moment.\n  'Matplotlib is building the font cache using fc-list. '\n",
          "name": "stderr"
        },
        {
          "output_type": "stream",
          "text": "<class 'pandas.core.frame.DataFrame'>\nRangeIndex: 4206321 entries, 0 to 4206320\nData columns (total 4 columns):\ngeohash6     object\nday          int64\ntimestamp    object\ndemand       float64\ndtypes: float64(1), int64(1), object(2)\nmemory usage: 128.4+ MB\n",
          "name": "stdout"
        },
        {
          "output_type": "execute_result",
          "execution_count": 8,
          "data": {
            "text/html": "<div>\n<style scoped>\n    .dataframe tbody tr th:only-of-type {\n        vertical-align: middle;\n    }\n\n    .dataframe tbody tr th {\n        vertical-align: top;\n    }\n\n    .dataframe thead th {\n        text-align: right;\n    }\n</style>\n<table border=\"1\" class=\"dataframe\">\n  <thead>\n    <tr style=\"text-align: right;\">\n      <th></th>\n      <th>geohash6</th>\n      <th>day</th>\n      <th>timestamp</th>\n      <th>demand</th>\n    </tr>\n  </thead>\n  <tbody>\n    <tr>\n      <th>0</th>\n      <td>qp03wc</td>\n      <td>18</td>\n      <td>20:0</td>\n      <td>0.020072</td>\n    </tr>\n    <tr>\n      <th>1</th>\n      <td>qp03pn</td>\n      <td>10</td>\n      <td>14:30</td>\n      <td>0.024721</td>\n    </tr>\n    <tr>\n      <th>2</th>\n      <td>qp09sw</td>\n      <td>9</td>\n      <td>6:15</td>\n      <td>0.102821</td>\n    </tr>\n  </tbody>\n</table>\n</div>",
            "text/plain": "  geohash6  day timestamp    demand\n0   qp03wc   18      20:0  0.020072\n1   qp03pn   10     14:30  0.024721\n2   qp09sw    9      6:15  0.102821"
          },
          "metadata": {}
        }
      ]
    },
    {
      "metadata": {
        "trusted": true
      },
      "cell_type": "code",
      "source": "df = pd.read_csv('../training.csv')\ndf.info()\ndf.describe()\ndf.head(3)",
      "execution_count": 9,
      "outputs": [
        {
          "output_type": "stream",
          "text": "<class 'pandas.core.frame.DataFrame'>\nRangeIndex: 4206321 entries, 0 to 4206320\nData columns (total 4 columns):\ngeohash6     object\nday          int64\ntimestamp    object\ndemand       float64\ndtypes: float64(1), int64(1), object(2)\nmemory usage: 128.4+ MB\n",
          "name": "stdout"
        },
        {
          "output_type": "execute_result",
          "execution_count": 9,
          "data": {
            "text/html": "<div>\n<style scoped>\n    .dataframe tbody tr th:only-of-type {\n        vertical-align: middle;\n    }\n\n    .dataframe tbody tr th {\n        vertical-align: top;\n    }\n\n    .dataframe thead th {\n        text-align: right;\n    }\n</style>\n<table border=\"1\" class=\"dataframe\">\n  <thead>\n    <tr style=\"text-align: right;\">\n      <th></th>\n      <th>geohash6</th>\n      <th>day</th>\n      <th>timestamp</th>\n      <th>demand</th>\n    </tr>\n  </thead>\n  <tbody>\n    <tr>\n      <th>0</th>\n      <td>qp03wc</td>\n      <td>18</td>\n      <td>20:0</td>\n      <td>0.020072</td>\n    </tr>\n    <tr>\n      <th>1</th>\n      <td>qp03pn</td>\n      <td>10</td>\n      <td>14:30</td>\n      <td>0.024721</td>\n    </tr>\n    <tr>\n      <th>2</th>\n      <td>qp09sw</td>\n      <td>9</td>\n      <td>6:15</td>\n      <td>0.102821</td>\n    </tr>\n  </tbody>\n</table>\n</div>",
            "text/plain": "  geohash6  day timestamp    demand\n0   qp03wc   18      20:0  0.020072\n1   qp03pn   10     14:30  0.024721\n2   qp09sw    9      6:15  0.102821"
          },
          "metadata": {}
        }
      ]
    },
    {
      "metadata": {
        "trusted": true
      },
      "cell_type": "code",
      "source": "total = df.isnull().sum().sort_values(ascending=False)\npercent_1 = df.isnull().sum()/train_df.isnull().count()*100\npercent_2 = (round(percent_1, 1)).sort_values(ascending=False)\nmissing_data = pd.concat([total, percent_2], axis=1, keys=['Total', '%'])\nmissing_data.head(5)",
      "execution_count": 12,
      "outputs": [
        {
          "output_type": "stream",
          "text": "/home/nbuser/anaconda3_501/lib/python3.6/site-packages/ipykernel/__main__.py:4: FutureWarning: Sorting because non-concatenation axis is not aligned. A future version\nof pandas will change to not sort by default.\n\nTo accept the future behavior, pass 'sort=False'.\n\nTo retain the current behavior and silence the warning, pass 'sort=True'.\n\n",
          "name": "stderr"
        },
        {
          "output_type": "execute_result",
          "execution_count": 12,
          "data": {
            "text/html": "<div>\n<style scoped>\n    .dataframe tbody tr th:only-of-type {\n        vertical-align: middle;\n    }\n\n    .dataframe tbody tr th {\n        vertical-align: top;\n    }\n\n    .dataframe thead th {\n        text-align: right;\n    }\n</style>\n<table border=\"1\" class=\"dataframe\">\n  <thead>\n    <tr style=\"text-align: right;\">\n      <th></th>\n      <th>Total</th>\n      <th>%</th>\n    </tr>\n  </thead>\n  <tbody>\n    <tr>\n      <th>day</th>\n      <td>0</td>\n      <td>0.0</td>\n    </tr>\n    <tr>\n      <th>demand</th>\n      <td>0</td>\n      <td>0.0</td>\n    </tr>\n    <tr>\n      <th>geohash6</th>\n      <td>0</td>\n      <td>0.0</td>\n    </tr>\n    <tr>\n      <th>gridx</th>\n      <td>0</td>\n      <td>NaN</td>\n    </tr>\n    <tr>\n      <th>gridy</th>\n      <td>0</td>\n      <td>NaN</td>\n    </tr>\n  </tbody>\n</table>\n</div>",
            "text/plain": "          Total    %\nday           0  0.0\ndemand        0  0.0\ngeohash6      0  0.0\ngridx         0  NaN\ngridy         0  NaN"
          },
          "metadata": {}
        }
      ]
    },
    {
      "metadata": {
        "trusted": true
      },
      "cell_type": "code",
      "source": "dataset = df\ndataset['gridx'] = dataset['geohash6'].map(lambda x:gh.decode(x)[0])\ndataset['gridy'] = dataset['geohash6'].map(lambda x:gh.decode(x)[1])\ndataset.head(3)",
      "execution_count": 10,
      "outputs": [
        {
          "output_type": "execute_result",
          "execution_count": 10,
          "data": {
            "text/html": "<div>\n<style scoped>\n    .dataframe tbody tr th:only-of-type {\n        vertical-align: middle;\n    }\n\n    .dataframe tbody tr th {\n        vertical-align: top;\n    }\n\n    .dataframe thead th {\n        text-align: right;\n    }\n</style>\n<table border=\"1\" class=\"dataframe\">\n  <thead>\n    <tr style=\"text-align: right;\">\n      <th></th>\n      <th>geohash6</th>\n      <th>day</th>\n      <th>timestamp</th>\n      <th>demand</th>\n      <th>gridx</th>\n      <th>gridy</th>\n    </tr>\n  </thead>\n  <tbody>\n    <tr>\n      <th>0</th>\n      <td>qp03wc</td>\n      <td>18</td>\n      <td>20:0</td>\n      <td>0.020072</td>\n      <td>-5.353088</td>\n      <td>90.653687</td>\n    </tr>\n    <tr>\n      <th>1</th>\n      <td>qp03pn</td>\n      <td>10</td>\n      <td>14:30</td>\n      <td>0.024721</td>\n      <td>-5.413513</td>\n      <td>90.664673</td>\n    </tr>\n    <tr>\n      <th>2</th>\n      <td>qp09sw</td>\n      <td>9</td>\n      <td>6:15</td>\n      <td>0.102821</td>\n      <td>-5.325623</td>\n      <td>90.906372</td>\n    </tr>\n  </tbody>\n</table>\n</div>",
            "text/plain": "  geohash6  day timestamp    demand     gridx      gridy\n0   qp03wc   18      20:0  0.020072 -5.353088  90.653687\n1   qp03pn   10     14:30  0.024721 -5.413513  90.664673\n2   qp09sw    9      6:15  0.102821 -5.325623  90.906372"
          },
          "metadata": {}
        }
      ]
    },
    {
      "metadata": {
        "trusted": true
      },
      "cell_type": "code",
      "source": "dataset['day'].nunique()",
      "execution_count": 13,
      "outputs": [
        {
          "output_type": "execute_result",
          "execution_count": 13,
          "data": {
            "text/plain": "61"
          },
          "metadata": {}
        }
      ]
    },
    {
      "metadata": {
        "trusted": true
      },
      "cell_type": "code",
      "source": "df_group=dataset.groupby('day').count()\n\ndf_0=dataset.loc[dataset['day'] == 1].sort_values(by='demand', ascending=True)\ndf_0.head(20)",
      "execution_count": 15,
      "outputs": [
        {
          "output_type": "execute_result",
          "execution_count": 15,
          "data": {
            "text/html": "<div>\n<style scoped>\n    .dataframe tbody tr th:only-of-type {\n        vertical-align: middle;\n    }\n\n    .dataframe tbody tr th {\n        vertical-align: top;\n    }\n\n    .dataframe thead th {\n        text-align: right;\n    }\n</style>\n<table border=\"1\" class=\"dataframe\">\n  <thead>\n    <tr style=\"text-align: right;\">\n      <th></th>\n      <th>geohash6</th>\n      <th>day</th>\n      <th>timestamp</th>\n      <th>demand</th>\n      <th>gridx</th>\n      <th>gridy</th>\n    </tr>\n  </thead>\n  <tbody>\n    <tr>\n      <th>2633629</th>\n      <td>qp09me</td>\n      <td>1</td>\n      <td>11:30</td>\n      <td>0.000001</td>\n      <td>-5.386047</td>\n      <td>90.950317</td>\n    </tr>\n    <tr>\n      <th>4081587</th>\n      <td>qp03zr</td>\n      <td>1</td>\n      <td>10:15</td>\n      <td>0.000002</td>\n      <td>-5.276184</td>\n      <td>90.675659</td>\n    </tr>\n    <tr>\n      <th>1871047</th>\n      <td>qp09f9</td>\n      <td>1</td>\n      <td>20:15</td>\n      <td>0.000002</td>\n      <td>-5.309143</td>\n      <td>90.818481</td>\n    </tr>\n    <tr>\n      <th>1857831</th>\n      <td>qp09fj</td>\n      <td>1</td>\n      <td>17:30</td>\n      <td>0.000004</td>\n      <td>-5.287170</td>\n      <td>90.796509</td>\n    </tr>\n    <tr>\n      <th>198366</th>\n      <td>qp03mw</td>\n      <td>1</td>\n      <td>19:45</td>\n      <td>0.000005</td>\n      <td>-5.369568</td>\n      <td>90.598755</td>\n    </tr>\n    <tr>\n      <th>3627760</th>\n      <td>qp0d0k</td>\n      <td>1</td>\n      <td>7:45</td>\n      <td>0.000005</td>\n      <td>-5.248718</td>\n      <td>90.719604</td>\n    </tr>\n    <tr>\n      <th>2160756</th>\n      <td>qp03ym</td>\n      <td>1</td>\n      <td>12:30</td>\n      <td>0.000006</td>\n      <td>-5.287170</td>\n      <td>90.631714</td>\n    </tr>\n    <tr>\n      <th>1074689</th>\n      <td>qp09fr</td>\n      <td>1</td>\n      <td>12:45</td>\n      <td>0.000006</td>\n      <td>-5.276184</td>\n      <td>90.807495</td>\n    </tr>\n    <tr>\n      <th>411475</th>\n      <td>qp0d19</td>\n      <td>1</td>\n      <td>14:30</td>\n      <td>0.000007</td>\n      <td>-5.265198</td>\n      <td>90.774536</td>\n    </tr>\n    <tr>\n      <th>2113741</th>\n      <td>qp08fz</td>\n      <td>1</td>\n      <td>23:30</td>\n      <td>0.000007</td>\n      <td>-5.451965</td>\n      <td>90.829468</td>\n    </tr>\n    <tr>\n      <th>2041247</th>\n      <td>qp08fz</td>\n      <td>1</td>\n      <td>2:30</td>\n      <td>0.000007</td>\n      <td>-5.451965</td>\n      <td>90.829468</td>\n    </tr>\n    <tr>\n      <th>2532941</th>\n      <td>qp0d06</td>\n      <td>1</td>\n      <td>12:15</td>\n      <td>0.000007</td>\n      <td>-5.259705</td>\n      <td>90.719604</td>\n    </tr>\n    <tr>\n      <th>92969</th>\n      <td>qp0995</td>\n      <td>1</td>\n      <td>15:0</td>\n      <td>0.000007</td>\n      <td>-5.342102</td>\n      <td>90.752563</td>\n    </tr>\n    <tr>\n      <th>2784898</th>\n      <td>qp03mm</td>\n      <td>1</td>\n      <td>22:30</td>\n      <td>0.000008</td>\n      <td>-5.375061</td>\n      <td>90.587769</td>\n    </tr>\n    <tr>\n      <th>3669753</th>\n      <td>qp09sv</td>\n      <td>1</td>\n      <td>3:45</td>\n      <td>0.000010</td>\n      <td>-5.331116</td>\n      <td>90.917358</td>\n    </tr>\n    <tr>\n      <th>210385</th>\n      <td>qp03mq</td>\n      <td>1</td>\n      <td>22:30</td>\n      <td>0.000010</td>\n      <td>-5.369568</td>\n      <td>90.587769</td>\n    </tr>\n    <tr>\n      <th>2127781</th>\n      <td>qp08up</td>\n      <td>1</td>\n      <td>8:30</td>\n      <td>0.000012</td>\n      <td>-5.451965</td>\n      <td>90.884399</td>\n    </tr>\n    <tr>\n      <th>2973751</th>\n      <td>qp09y5</td>\n      <td>1</td>\n      <td>4:45</td>\n      <td>0.000012</td>\n      <td>-5.298157</td>\n      <td>90.972290</td>\n    </tr>\n    <tr>\n      <th>1759577</th>\n      <td>qp097r</td>\n      <td>1</td>\n      <td>5:15</td>\n      <td>0.000012</td>\n      <td>-5.364075</td>\n      <td>90.851440</td>\n    </tr>\n    <tr>\n      <th>10274</th>\n      <td>qp0d4y</td>\n      <td>1</td>\n      <td>6:0</td>\n      <td>0.000013</td>\n      <td>-5.237732</td>\n      <td>90.829468</td>\n    </tr>\n  </tbody>\n</table>\n</div>",
            "text/plain": "        geohash6  day timestamp    demand     gridx      gridy\n2633629   qp09me    1     11:30  0.000001 -5.386047  90.950317\n4081587   qp03zr    1     10:15  0.000002 -5.276184  90.675659\n1871047   qp09f9    1     20:15  0.000002 -5.309143  90.818481\n1857831   qp09fj    1     17:30  0.000004 -5.287170  90.796509\n198366    qp03mw    1     19:45  0.000005 -5.369568  90.598755\n3627760   qp0d0k    1      7:45  0.000005 -5.248718  90.719604\n2160756   qp03ym    1     12:30  0.000006 -5.287170  90.631714\n1074689   qp09fr    1     12:45  0.000006 -5.276184  90.807495\n411475    qp0d19    1     14:30  0.000007 -5.265198  90.774536\n2113741   qp08fz    1     23:30  0.000007 -5.451965  90.829468\n2041247   qp08fz    1      2:30  0.000007 -5.451965  90.829468\n2532941   qp0d06    1     12:15  0.000007 -5.259705  90.719604\n92969     qp0995    1      15:0  0.000007 -5.342102  90.752563\n2784898   qp03mm    1     22:30  0.000008 -5.375061  90.587769\n3669753   qp09sv    1      3:45  0.000010 -5.331116  90.917358\n210385    qp03mq    1     22:30  0.000010 -5.369568  90.587769\n2127781   qp08up    1      8:30  0.000012 -5.451965  90.884399\n2973751   qp09y5    1      4:45  0.000012 -5.298157  90.972290\n1759577   qp097r    1      5:15  0.000012 -5.364075  90.851440\n10274     qp0d4y    1       6:0  0.000013 -5.237732  90.829468"
          },
          "metadata": {}
        }
      ]
    },
    {
      "metadata": {
        "trusted": true
      },
      "cell_type": "code",
      "source": "",
      "execution_count": null,
      "outputs": []
    }
  ],
  "metadata": {
    "kernelspec": {
      "name": "python36",
      "display_name": "Python 3.6",
      "language": "python"
    },
    "language_info": {
      "mimetype": "text/x-python",
      "nbconvert_exporter": "python",
      "name": "python",
      "pygments_lexer": "ipython3",
      "version": "3.6.6",
      "file_extension": ".py",
      "codemirror_mode": {
        "version": 3,
        "name": "ipython"
      }
    }
  },
  "nbformat": 4,
  "nbformat_minor": 2
}